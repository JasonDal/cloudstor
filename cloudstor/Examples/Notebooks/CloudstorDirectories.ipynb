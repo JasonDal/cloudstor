{
 "cells": [
  {
   "cell_type": "markdown",
   "metadata": {},
   "source": [
    "## 1) cloudstor access to files via webdav links\n",
    "\n",
    "_`cloudstor` is a simple python tool to interface with the AARNET cloudstor (owncloud) deployment via webdav_\n",
    "\n",
    "This is a simple webdav interface to the very specific implementation of the owncloud storage\n",
    "solution that is available to all Australian researchers to store and share their data.\n",
    "(See [https://www.aarnet.edu.au/.../cloudstor](https://www.aarnet.edu.au/network-and-services/cloud-services-applications/cloudstor) for details of this service). The github repository for this project is located at [https://github.com/underworldcode/cloudstor](https://github.com/underworldcode/cloudstor)\n",
    "\n",
    "\n",
    "### Usage\n",
    "\n",
    "The `cloudstor` class is based on the `webdav` class with some hard-coded paths that account for the\n",
    "specific choices made in the AARNET implementation and is therefore largely a wrapper of convenience.\n",
    "\n",
    "Cloudstor allows the sharing of files and directories via a url and these can have a password given \n",
    "to them (in the web browser interface) or left open. Directories have the option to be read / write.\n",
    "\n",
    "### Directory links\n",
    "\n",
    "A cloud store public link has the form \"https://cloudstor.aarnet.edu.au/plus/s/s1z3yiL0j4sq3A9\" and can \n",
    "be accessed directly from that link via a web browser. To download the information in the link, we \n",
    "need to know if it is a file or a directory. The following example is for a public link to a text file\n",
    "with no password protection (it should be obvious what to do if you are given a password)\n",
    "\n",
    "**Note**: you can also omit the \"https://cloudstor.aarnet.edu.au/plus/s/\" from your url as this is checked\n",
    "and added if needed."
   ]
  },
  {
   "cell_type": "code",
   "execution_count": 1,
   "metadata": {},
   "outputs": [
    {
     "name": "stdout",
     "output_type": "stream",
     "text": [
      "Cloudstore connection established\n"
     ]
    }
   ],
   "source": [
    "from cloudstor import cloudstor\n",
    "\n",
    "public_ro = cloudstor(url=\"https://cloudstor.aarnet.edu.au/plus/s/F7yegRFEcsTH0QZ\", password='ThisIsNotASecure1!!')"
   ]
  },
  {
   "cell_type": "markdown",
   "metadata": {},
   "source": [
    "### Establish that this is a directory (not a file)"
   ]
  },
  {
   "cell_type": "code",
   "execution_count": 3,
   "metadata": {},
   "outputs": [
    {
     "name": "stdout",
     "output_type": "stream",
     "text": [
      "directory\n"
     ]
    }
   ],
   "source": [
    "print(public_ro.remote_type)"
   ]
  },
  {
   "cell_type": "markdown",
   "metadata": {},
   "source": [
    "The remote \"path\" for a root directory object is either blank (`\"\"`) or `\"/\"` "
   ]
  },
  {
   "cell_type": "code",
   "execution_count": 9,
   "metadata": {},
   "outputs": [
    {
     "name": "stdout",
     "output_type": "stream",
     "text": [
      "False\n",
      "True\n"
     ]
    }
   ],
   "source": [
    "print(public_ro.is_file(\"/\"))\n",
    "print(public_ro.is_dir(remote_path=\"\"))"
   ]
  },
  {
   "cell_type": "markdown",
   "metadata": {},
   "source": [
    "We can query the directory as we would a local one and retrieve a (python) list of the files and subdirectories and these can then be queried in turn by accessing the original `webdav` object."
   ]
  },
  {
   "cell_type": "code",
   "execution_count": 13,
   "metadata": {},
   "outputs": [
    {
     "name": "stdout",
     "output_type": "stream",
     "text": [
      "['Readme.txt']\n",
      "True\n"
     ]
    }
   ],
   "source": [
    "ls_entries = public_ro.list()\n",
    "print(ls_entries)\n",
    "print(public_ro.is_file(ls_entries[0]))"
   ]
  },
  {
   "cell_type": "markdown",
   "metadata": {},
   "source": [
    "### Reading a remote file \n",
    "\n",
    "Use the same syntax as you would to open a file from the direct link but here with the remote path being parsed appropriately. \n",
    "**Note:** there is no magic here - the file is downloaded and removed when you have finished reading it. For large files, it is neither streamed nor cached. Consider downloading the file !"
   ]
  },
  {
   "cell_type": "code",
   "execution_count": 14,
   "metadata": {},
   "outputs": [
    {
     "name": "stdout",
     "output_type": "stream",
     "text": [
      "Test File (Password supplied)\n",
      "\n"
     ]
    }
   ],
   "source": [
    "with public_ro.open(\"Readme.txt\") as f:\n",
    "    a = f.read()\n",
    "    \n",
    "print(a)"
   ]
  },
  {
   "cell_type": "markdown",
   "metadata": {},
   "source": [
    "### Downloading a remote file\n",
    "\n"
   ]
  },
  {
   "cell_type": "code",
   "execution_count": 15,
   "metadata": {},
   "outputs": [
    {
     "name": "stdout",
     "output_type": "stream",
     "text": [
      "-rw-r--r--  1 lmoresi  staff  30 15 May 16:29 my_temporary_copy.txt\n"
     ]
    }
   ],
   "source": [
    "public_ro.download_file(\"Readme.txt\", \"my_temporary_copy.txt\")\n",
    "!ls -al my_temporary_copy.txt\n",
    "!rm  my_temporary_copy.txt"
   ]
  },
  {
   "cell_type": "markdown",
   "metadata": {},
   "source": [
    "### Other directory operations\n",
    "\n",
    "You can also `download` a directory with the expected results. "
   ]
  },
  {
   "cell_type": "code",
   "execution_count": 22,
   "metadata": {},
   "outputs": [
    {
     "name": "stdout",
     "output_type": "stream",
     "text": [
      "total 179776\n",
      "drwxr-xr-x  27 lmoresi  staff       864 15 May 16:33 \u001b[34m.\u001b[m\u001b[m\n",
      "drwxr-xr-x  13 lmoresi  staff       416 14 May 15:17 \u001b[34m..\u001b[m\u001b[m\n",
      "-rw-r--r--   1 lmoresi  staff      8196 14 May 15:15 .DS_Store\n",
      "drwxr-xr-x   5 lmoresi  staff       160 15 May 16:23 \u001b[34m.ipynb_checkpoints\u001b[m\u001b[m\n",
      "-rw-r--r--   1 lmoresi  staff     12997 15 May 16:32 CloudstorDirectories.ipynb\n",
      "-rw-r--r--   1 lmoresi  staff      5473 15 May 16:29 CloudstorFiles.ipynb\n",
      "-rw-r--r--   1 lmoresi  staff      6993 15 May 16:22 CloudstorPrivateFiles.ipynb\n",
      "-rw-r--r--   1 lmoresi  staff  11520134  8 May 20:17 Etopo1_2400x1200.tif\n",
      "-rw-r--r--   1 lmoresi  staff  25920134  8 May 16:12 Etopo1_3600x1800.tif\n",
      "-rw-r--r--   1 lmoresi  staff        33 15 May 11:34 Readme.txt\n",
      "drwxr-xr-x  19 lmoresi  staff       608  2 May 16:59 \u001b[34mReference\u001b[m\u001b[m\n",
      "drwxr-xr-x  42 lmoresi  staff      1344  2 May 16:59 \u001b[34mResources\u001b[m\u001b[m\n",
      "-rw-r--r--   1 lmoresi  staff  12980154  9 May 11:05 events_4.5+by_year_1970-2019.npy\n",
      "-rw-r--r--   1 lmoresi  staff        40 15 May 14:58 file.txt\n",
      "-rw-r--r--   1 lmoresi  staff  21987373  2 May 16:59 global_age_data.3.6.z.npz\n",
      "-rw-r--r--   1 lmoresi  staff   4309416  2 May 16:59 sec_invariant_strain_0.2.dat.zip\n",
      "drwxr-xr-x   3 lmoresi  staff        96 15 May 16:33 \u001b[34mtempdir\u001b[m\u001b[m\n",
      "-rw-r--r--   1 lmoresi  staff  11520134 14 May 15:58 test.tif\n",
      "-rw-r--r--   1 lmoresi  staff        40 15 May 15:48 tmpfile\n",
      "-rw-r--r--   1 lmoresi  staff    466364  2 May 16:59 velocity_AU.nc\n",
      "-rw-r--r--   1 lmoresi  staff    466364  2 May 16:59 velocity_EU.nc\n",
      "-rw-r--r--   1 lmoresi  staff    466364  2 May 16:59 velocity_IN.nc\n",
      "-rw-r--r--   1 lmoresi  staff    466364  2 May 16:59 velocity_NA.nc\n",
      "-rw-r--r--   1 lmoresi  staff    466364  2 May 16:59 velocity_NNR.nc\n",
      "-rw-r--r--   1 lmoresi  staff    466364  2 May 16:59 velocity_OK.nc\n",
      "-rw-r--r--   1 lmoresi  staff    466324  2 May 16:59 velocity_PA.nc\n",
      "-rw-r--r--   1 lmoresi  staff    466364  2 May 16:59 velocity_TA.nc\n",
      "\n",
      "tempdir:\n",
      "total 8\n",
      "drwxr-xr-x   3 lmoresi  staff   96 15 May 16:33 \u001b[34m.\u001b[m\u001b[m\n",
      "drwxr-xr-x  27 lmoresi  staff  864 15 May 16:33 \u001b[34m..\u001b[m\u001b[m\n",
      "-rw-r--r--   1 lmoresi  staff   30 15 May 16:33 Readme.txt\n"
     ]
    }
   ],
   "source": [
    "public_ro.download(\"/\", \"tempdir\")\n",
    "!ls -al \n",
    "!echo \"\\ntempdir:\" ; ls -al tempdir\n",
    "!rm -rf tempdir"
   ]
  },
  {
   "cell_type": "markdown",
   "metadata": {},
   "source": [
    "### Uploading and modifying remote files / directories\n",
    "\n",
    "The sample resource is read-only, so the following operation fails:"
   ]
  },
  {
   "cell_type": "code",
   "execution_count": 26,
   "metadata": {},
   "outputs": [
    {
     "name": "stdout",
     "output_type": "stream",
     "text": [
      "Error: Forbidden operation\n"
     ]
    }
   ],
   "source": [
    "try:\n",
    "    public_ro.clean(\"Readme.txt\")\n",
    "except:\n",
    "    print(\"Error: Forbidden operation\")"
   ]
  },
  {
   "cell_type": "markdown",
   "metadata": {},
   "source": [
    "The following are available for links where read / write has been enabled (edit option ticked)\n",
    "\n",
    "```python\n",
    "    public_rw.download_directory(remote_directory, local_directory)  # immediate download of remote to local\n",
    "    public_rw.sync(remote_directory, local_directory)                # 2 way sync of remote / local directory\n",
    "    public_rw.download_async(remote_directory, local_directory)      # asynchronous download of remote to local\n",
    "    public_rw.clean(remote_path)                                     # delete the remote path\n",
    "    public_rw.move(remote_path_from, remote_path_to)                 # move the remote file / directory\n",
    "    public_rw.copy(remote_path_from, remote_path_to)                 # move the remote file / directory\n",
    "\n",
    "```\n",
    "\n",
    "For obvious security / resource reasons, the upload and delete operations do not have examples provided here."
   ]
  },
  {
   "cell_type": "code",
   "execution_count": null,
   "metadata": {},
   "outputs": [],
   "source": []
  }
 ],
 "metadata": {
  "kernelspec": {
   "display_name": "Python 3",
   "language": "python",
   "name": "python3"
  },
  "language_info": {
   "codemirror_mode": {
    "name": "ipython",
    "version": 3
   },
   "file_extension": ".py",
   "mimetype": "text/x-python",
   "name": "python",
   "nbconvert_exporter": "python",
   "pygments_lexer": "ipython3",
   "version": "3.7.3"
  }
 },
 "nbformat": 4,
 "nbformat_minor": 2
}
