{
 "cells": [
  {
   "cell_type": "markdown",
   "metadata": {},
   "source": [
    "## 1) cloudstor access to files via webdav links\n",
    "\n",
    "_`cloudstor` is a simple python tool to interface with the AARNET cloudstor (owncloud) deployment via webdav_\n",
    "\n",
    "This is a simple webdav interface to the very specific implementation of the owncloud storage\n",
    "solution that is available to all Australian researchers to store and share their data.\n",
    "(See [https://www.aarnet.edu.au/.../cloudstor](https://www.aarnet.edu.au/network-and-services/cloud-services-applications/cloudstor) for details of this service). The github repository for this project is located at [https://github.com/underworldcode/cloudstor](https://github.com/underworldcode/cloudstor)\n",
    "\n",
    "\n",
    "### Usage\n",
    "\n",
    "The `cloudstor` class is based on the `webdav` class with some hard-coded paths that account for the\n",
    "specific choices made in the AARNET implementation and is therefore largely a wrapper of convenience.\n",
    "\n",
    "Cloudstor allows the sharing of files and directories via a url and these can have a password given \n",
    "to them (in the web browser interface) or left open. Directories have the option to be read / write.\n",
    "\n",
    "### Files links\n",
    "\n",
    "A cloud store public link has the form \"https://cloudstor.aarnet.edu.au/plus/s/s1z3yiL0j4sq3A9\" and can \n",
    "be accessed directly from that link via a web browser. To download the information in the link, we \n",
    "need to know if it is a file or a directory. The following example is for a public link to a text file\n",
    "with no password protection (it should be obvious what to do if you are given a password)\n",
    "\n",
    "**Note**: you can also omit the \"https://cloudstor.aarnet.edu.au/plus/s/\" from your url as this is checked\n",
    "and added if needed."
   ]
  },
  {
   "cell_type": "code",
   "execution_count": 20,
   "metadata": {},
   "outputs": [
    {
     "name": "stdout",
     "output_type": "stream",
     "text": [
      "Cloudstore connection established\n"
     ]
    }
   ],
   "source": [
    "from cloudstor import cloudstor\n",
    "\n",
    "public_file = cloudstor(url=\"https://cloudstor.aarnet.edu.au/plus/s/s1z3yiL0j4sq3A9\", password='')"
   ]
  },
  {
   "cell_type": "markdown",
   "metadata": {},
   "source": [
    "### Establish that this is a file (not a directory)"
   ]
  },
  {
   "cell_type": "code",
   "execution_count": 2,
   "metadata": {},
   "outputs": [
    {
     "name": "stdout",
     "output_type": "stream",
     "text": [
      "file\n"
     ]
    }
   ],
   "source": [
    "print(public_file.remote_type)"
   ]
  },
  {
   "cell_type": "markdown",
   "metadata": {},
   "source": [
    "The remote \"path\" for a file object is either blank (`\"\"`) or `\"/\"` "
   ]
  },
  {
   "cell_type": "code",
   "execution_count": 11,
   "metadata": {},
   "outputs": [
    {
     "name": "stdout",
     "output_type": "stream",
     "text": [
      "True\n",
      "False\n"
     ]
    }
   ],
   "source": [
    "print(public_file.is_file(\"/\"))\n",
    "print(public_file.is_dir(remote_path=\"/\"))"
   ]
  },
  {
   "cell_type": "markdown",
   "metadata": {},
   "source": [
    "This is true even if you try to access the actual filename "
   ]
  },
  {
   "cell_type": "code",
   "execution_count": 13,
   "metadata": {},
   "outputs": [
    {
     "name": "stdout",
     "output_type": "stream",
     "text": [
      "Invalid remote path\n"
     ]
    }
   ],
   "source": [
    "try:\n",
    "    print(public_file.is_file(remote_path=\"CloudstorTestFile.txt\"))\n",
    "except:\n",
    "    print(\"Invalid remote path\")"
   ]
  },
  {
   "cell_type": "markdown",
   "metadata": {},
   "source": [
    "### Reading a remote file\n",
    "\n",
    "Use the same syntax as you would to open a local file. \n",
    "**Note:** there is no magic here - the file is downloaded and removed when you have finished reading it. For large files, it is neither streamed nor cached. Consider downloading the file !"
   ]
  },
  {
   "cell_type": "code",
   "execution_count": 14,
   "metadata": {},
   "outputs": [
    {
     "name": "stdout",
     "output_type": "stream",
     "text": [
      "This file contains no useful information\n"
     ]
    }
   ],
   "source": [
    "with public_file.open(\"\") as f:\n",
    "    a = f.read()\n",
    "    \n",
    "print(a)"
   ]
  },
  {
   "cell_type": "markdown",
   "metadata": {},
   "source": [
    "### Downloading a remote file\n",
    "\n"
   ]
  },
  {
   "cell_type": "code",
   "execution_count": 18,
   "metadata": {},
   "outputs": [
    {
     "name": "stdout",
     "output_type": "stream",
     "text": [
      "-rw-r--r--  1 lmoresi  staff  40 15 May 16:19 my_temporary_copy.txt\n"
     ]
    }
   ],
   "source": [
    "public_file.download_file(\"\", \"my_temporary_copy.txt\")\n",
    "!ls -al my_temporary_copy.txt\n",
    "!rm  my_temporary_copy.txt"
   ]
  }
 ],
 "metadata": {
  "kernelspec": {
   "display_name": "Python 3",
   "language": "python",
   "name": "python3"
  },
  "language_info": {
   "codemirror_mode": {
    "name": "ipython",
    "version": 3
   },
   "file_extension": ".py",
   "mimetype": "text/x-python",
   "name": "python",
   "nbconvert_exporter": "python",
   "pygments_lexer": "ipython3",
   "version": "3.7.3"
  }
 },
 "nbformat": 4,
 "nbformat_minor": 2
}
