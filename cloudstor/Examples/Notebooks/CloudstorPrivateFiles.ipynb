{
 "cells": [
  {
   "cell_type": "markdown",
   "metadata": {},
   "source": [
    "## 1) cloudstor access to files via webdav links\n",
    "\n",
    "_`cloudstor` is a simple python tool to interface with the AARNET cloudstor (owncloud) deployment via webdav_\n",
    "\n",
    "This is a simple webdav interface to the very specific implementation of the owncloud storage\n",
    "solution that is available to all Australian researchers to store and share their data.\n",
    "(See [https://www.aarnet.edu.au/.../cloudstor](https://www.aarnet.edu.au/network-and-services/cloud-services-applications/cloudstor) for details of this service). The github repository for this project is located at [https://github.com/underworldcode/cloudstor](https://github.com/underworldcode/cloudstor)\n",
    "\n",
    "\n",
    "### Usage\n",
    "\n",
    "The `cloudstor` class is based on the `webdav` class with some hard-coded paths that account for the\n",
    "specific choices made in the AARNET implementation and is therefore largely a wrapper of convenience.\n",
    "\n",
    "Cloudstor allows the sharing of files and directories via a url and these can have a password given \n",
    "to them (in the web browser interface) or left open. Directories have the option to be read / write.\n",
    "\n",
    "### Private access to your account\n",
    "\n",
    "To access the private cloudstor filesystem, you need to log in with your credentials. \n",
    "The safest way to do this is to add an application password to your account via the security settings\n",
    "and be careful about sharing it. It can be revoked later and it can't be used to change your account\n",
    "details but you do give access to all your files.\n",
    "\n",
    "The token has the form: `XXXXX-YYYYY-ZZZZZ-QQQQQ` and can be used either in a script (watch out !) \n",
    "\n",
    "```python\n",
    "\n",
    "    private_file = cloudstor(private=True, username=\"louis.moresi@anu.edu.au\", password=\"XXXXX-YYYYY-ZZZZZ-QQQQQ\")\n",
    "\n",
    "```\n",
    "\n",
    "or, leave it out and be prompted on the command line (also, watch out as this is not especially secure either)\n",
    "\n",
    "```python\n",
    "\n",
    "    private_file = cloudstor(private=True, username=\"louis.moresi@anu.edu.au\")\n",
    "\n",
    "```\n",
    "\n"
   ]
  },
  {
   "cell_type": "code",
   "execution_count": 2,
   "metadata": {},
   "outputs": [
    {
     "name": "stdin",
     "output_type": "stream",
     "text": [
      "Cloudstore password for louis.moresi@anu.edu.au ·······················\n"
     ]
    },
    {
     "name": "stdout",
     "output_type": "stream",
     "text": [
      "Cloudstore connection established\n"
     ]
    }
   ],
   "source": [
    "from cloudstor import cloudstor\n",
    "\n",
    "private_file = cloudstor(private=True, username=\"louis.moresi@anu.edu.au\")\n"
   ]
  },
  {
   "cell_type": "code",
   "execution_count": 3,
   "metadata": {},
   "outputs": [
    {
     "data": {
      "text/plain": [
       "['CloudstorTestFile.txt',\n",
       " 'CloudstorTestFolder/',\n",
       " 'Datasets4Teaching/',\n",
       " 'GlobalMapsGlucifer/',\n",
       " 'Untitled.ipynb']"
      ]
     },
     "execution_count": 3,
     "metadata": {},
     "output_type": "execute_result"
    }
   ],
   "source": [
    "private_file.list()"
   ]
  },
  {
   "cell_type": "markdown",
   "metadata": {},
   "source": [
    "The private link is just the same as we have seen in working with public, read-write directories !"
   ]
  },
  {
   "cell_type": "code",
   "execution_count": null,
   "metadata": {},
   "outputs": [],
   "source": []
  }
 ],
 "metadata": {
  "kernelspec": {
   "display_name": "Python 3",
   "language": "python",
   "name": "python3"
  },
  "language_info": {
   "codemirror_mode": {
    "name": "ipython",
    "version": 3
   },
   "file_extension": ".py",
   "mimetype": "text/x-python",
   "name": "python",
   "nbconvert_exporter": "python",
   "pygments_lexer": "ipython3",
   "version": "3.7.3"
  }
 },
 "nbformat": 4,
 "nbformat_minor": 2
}
